{
 "cells": [
  {
   "cell_type": "markdown",
   "id": "8de91655",
   "metadata": {},
   "source": [
    "[![Open In Colab](https://colab.research.google.com/assets/colab-badge.svg)](https://colab.research.google.com/github/phantomic12/ollama-colab/blob/main/ollama.ipynb)"
   ]
  },
  {
   "cell_type": "code",
   "execution_count": null,
   "id": "ea45857a",
   "metadata": {
    "vscode": {
     "languageId": "plaintext"
    }
   },
   "outputs": [],
   "source": [
    "!curl -fsSL https://ollama.com/install.sh | sh\n",
    "!curl -L https://github.com/cloudflare/cloudflared/releases/latest/download/cloudflared-linux-amd64 -o cloudflared && chmod +x cloudflared"
   ]
  },
  {
   "cell_type": "code",
   "execution_count": null,
   "id": "d7c183c1",
   "metadata": {
    "vscode": {
     "languageId": "plaintext"
    }
   },
   "outputs": [],
   "source": [
    "from google.colab import userdata\n",
    "auth_token = userdata.get('NGROK_AUTH_TOKEN')\n",
    "!./ngrok authtoken {auth_token}\n",
    "!ollama serve & ./cloudflared tunnel --url http://localhost:11434 & sleep 5s && ollama run llama3:8b"
   ]
  }
 ],
 "metadata": {
  "language_info": {
   "name": "python"
  }
 },
 "nbformat": 4,
 "nbformat_minor": 5
}
